{
 "cells": [
  {
   "cell_type": "code",
   "execution_count": 1,
   "id": "e1ae63ff",
   "metadata": {},
   "outputs": [],
   "source": [
    "import cv2\n",
    "import socket\n",
    "from cv2 import aruco\n",
    "import time\n",
    "import threading\n",
    "import math\n",
    "import numpy as np\n",
    "import os\n",
    "from os.path import isfile, join"
   ]
  },
  {
   "cell_type": "code",
   "execution_count": 2,
   "id": "4410ef16",
   "metadata": {},
   "outputs": [
    {
     "name": "stdout",
     "output_type": "stream",
     "text": [
      "192.168.43.190\n"
     ]
    }
   ],
   "source": [
    "hostname = socket.gethostname()\n",
    "my_ip = socket.gethostbyname(hostname)\n",
    "print(my_ip) #Give this ID in the ESP32 sketch\n",
    "\n",
    "def startServer():\n",
    "    serversocket = socket.socket()\n",
    "    host = '0.0.0.0'\n",
    "    port = 8090\n",
    "   \n",
    "    try:\n",
    "        serversocket.bind((host, port))\n",
    "    except socket.error as e:\n",
    "        print(str(e))\n",
    "    \n",
    "    print(\"Waiting for connection\")\n",
    "    serversocket.listen(5)\n",
    "\n",
    "    global client, addr \n",
    "    client, addr = serversocket.accept()\n",
    "    print(\"Connection made\")"
   ]
  },
  {
   "cell_type": "code",
   "execution_count": 3,
   "id": "0ecf9a88",
   "metadata": {},
   "outputs": [],
   "source": [
    "def sampleCommand():\n",
    "    time.sleep(5)\n",
    "    sendCommand('1')\n",
    "    time.sleep(1.6)\n",
    "    sendCommand('4')\n",
    "    time.sleep(0.1)\n",
    "    sendCommand('1')\n",
    "    time.sleep(1.6)\n",
    "    sendCommand('0')\n",
    "    time.sleep(0.1)\n",
    "    sendCommand('2')\n",
    "    time.sleep(1.6)\n",
    "    sendCommand('0')\n",
    "    time.sleep(0.1)\n",
    "    sendCommand('7')\n",
    "    time.sleep(1.6)\n",
    "    sendCommand('0')\n",
    "    time.sleep(0.1)"
   ]
  },
  {
   "cell_type": "code",
   "execution_count": null,
   "id": "b53c4872",
   "metadata": {},
   "outputs": [],
   "source": [
    "startServer()\n",
    "sampleCommand()"
   ]
  }
 ],
 "metadata": {
  "kernelspec": {
   "display_name": "Python 3",
   "language": "python",
   "name": "python3"
  },
  "language_info": {
   "codemirror_mode": {
    "name": "ipython",
    "version": 3
   },
   "file_extension": ".py",
   "mimetype": "text/x-python",
   "name": "python",
   "nbconvert_exporter": "python",
   "pygments_lexer": "ipython3",
   "version": "3.8.10"
  }
 },
 "nbformat": 4,
 "nbformat_minor": 5
}
