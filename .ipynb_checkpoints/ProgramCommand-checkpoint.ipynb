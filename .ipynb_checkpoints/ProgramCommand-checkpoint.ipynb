{
 "cells": [
  {
   "cell_type": "code",
   "execution_count": 1,
   "id": "5c94fa14",
   "metadata": {},
   "outputs": [],
   "source": [
    "import cv2\n",
    "import socket\n",
    "#from cv2 import aruco\n",
    "import time\n",
    "import threading"
   ]
  },
  {
   "cell_type": "code",
   "execution_count": null,
   "id": "aaf11719",
   "metadata": {},
   "outputs": [],
   "source": []
  },
  {
   "cell_type": "code",
   "execution_count": null,
   "id": "c3f2a7f7",
   "metadata": {},
   "outputs": [],
   "source": []
  },
  {
   "cell_type": "code",
   "execution_count": 2,
   "id": "6d17ed8d",
   "metadata": {},
   "outputs": [],
   "source": [
    "def startServer():\n",
    "    serversocket = socket.socket()\n",
    "    host = '0.0.0.0'\n",
    "    port = 8090\n",
    "   \n",
    "    try:\n",
    "        serversocket.bind((host, port))\n",
    "    except socket.error as e:\n",
    "        print(str(e))\n",
    "    \n",
    "    print(\"Waiting for connection\")\n",
    "    serversocket.listen(5)\n",
    "\n",
    "    global client, addr \n",
    "    client, addr = serversocket.accept()\n",
    "    print(\"Connection made\")"
   ]
  },
  {
   "cell_type": "code",
   "execution_count": 3,
   "id": "fa1050fa",
   "metadata": {},
   "outputs": [],
   "source": [
    "def sendCommand(command):\n",
    "    \n",
    "    client.sendto(command.encode('UTF-8'), addr)"
   ]
  },
  {
   "cell_type": "code",
   "execution_count": 4,
   "id": "cf060b33",
   "metadata": {},
   "outputs": [],
   "source": [
    "def sampleCommand():\n",
    "    time.sleep(3)\n",
    "    sendCommand('1')\n",
    "    time.sleep(1.8)\n",
    "    sendCommand('0')\n",
    "    time.sleep(0.1)\n",
    "    sendCommand('2')\n",
    "    time.sleep(1.8)\n",
    "    sendCommand('0')"
   ]
  },
  {
   "cell_type": "code",
   "execution_count": 5,
   "id": "64664c91",
   "metadata": {},
   "outputs": [
    {
     "name": "stdout",
     "output_type": "stream",
     "text": [
      "Waiting for connection\n",
      "Connection made\n"
     ]
    }
   ],
   "source": [
    "startServer()\n",
    "sampleCommand()"
   ]
  },
  {
   "cell_type": "code",
   "execution_count": null,
   "id": "29c32a0b",
   "metadata": {},
   "outputs": [],
   "source": []
  }
 ],
 "metadata": {
  "kernelspec": {
   "display_name": "Python 3",
   "language": "python",
   "name": "python3"
  },
  "language_info": {
   "codemirror_mode": {
    "name": "ipython",
    "version": 3
   },
   "file_extension": ".py",
   "mimetype": "text/x-python",
   "name": "python",
   "nbconvert_exporter": "python",
   "pygments_lexer": "ipython3",
   "version": "3.8.8"
  }
 },
 "nbformat": 4,
 "nbformat_minor": 5
}
