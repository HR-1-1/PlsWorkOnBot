{
 "cells": [
  {
   "cell_type": "markdown",
   "id": "5ba14336",
   "metadata": {},
   "source": [
    "## GRID SOFTWARE v1.0\n",
    "- Establish server connection \n",
    "- Detect the Bots\n",
    "- Send command to bot\n",
    "- Navigation Algorithm\n",
    "- Main Function\n"
   ]
  },
  {
   "cell_type": "markdown",
   "id": "783fedc3",
   "metadata": {},
   "source": [
    "## Import Libraries"
   ]
  },
  {
   "cell_type": "code",
   "execution_count": 6,
   "id": "0083c073",
   "metadata": {},
   "outputs": [],
   "source": [
    "import cv2\n",
    "import socket\n",
    "from cv2 import aruco\n",
    "import time"
   ]
  },
  {
   "cell_type": "markdown",
   "id": "4d6fc23f",
   "metadata": {},
   "source": [
    "## Establish server connection"
   ]
  },
  {
   "cell_type": "code",
   "execution_count": null,
   "id": "e5eb2f68",
   "metadata": {},
   "outputs": [],
   "source": [
    "hostname = socket.gethostname()\n",
    "my_ip = socket.gethostbyname(hostname)\n",
    "print(my_ip) #Give this ID in the ESP32 sketch\n",
    "\n",
    "def startServer():\n",
    "    serversocket = socket.socket()\n",
    "    host = '0.0.0.0'\n",
    "    port = 8090\n",
    "   \n",
    "    try:\n",
    "        serversocket.bind((host, port))\n",
    "    except socket.error as e:\n",
    "        print(str(e))\n",
    "    \n",
    "    print(\"Waiting for connection\")\n",
    "    serversocket.listen(5)\n",
    "\n",
    "    global client1, addr1 = serversocket.accept()\n"
   ]
  },
  {
   "cell_type": "markdown",
   "id": "10a992ce",
   "metadata": {},
   "source": [
    "## Detect the bots"
   ]
  },
  {
   "cell_type": "markdown",
   "id": "62c7eb29",
   "metadata": {},
   "source": [
    "### arUco"
   ]
  },
  {
   "cell_type": "code",
   "execution_count": 2,
   "id": "268100a0",
   "metadata": {},
   "outputs": [],
   "source": [
    "def detectBots(img, markerSize = 6, totalMarkers = 250):\n",
    "    gray = cv2.cvtColor(img, cv2.COLOR_BGR2GRAY)\n",
    "    key = getattr(aruco, f'DICT_{markerSize}X{markerSize}_{totalMarkers}')\n",
    "    aruco_dict = aruco.Dictionary_get(key)\n",
    "    parameters = aruco.DetectorParameters_create()\n",
    "    corners, ids, rejectedImgPoints = aruco.detectMarkers(gray, aruco_dict, parameters = parameters)\n",
    "    return corners, ids"
   ]
  },
  {
   "cell_type": "markdown",
   "id": "188147c1",
   "metadata": {},
   "source": [
    "### QR CODE"
   ]
  },
  {
   "cell_type": "code",
   "execution_count": null,
   "id": "554bf8a0",
   "metadata": {},
   "outputs": [],
   "source": []
  },
  {
   "cell_type": "markdown",
   "id": "4c4b3f5a",
   "metadata": {},
   "source": [
    "## Send Command to Bot"
   ]
  },
  {
   "cell_type": "markdown",
   "id": "d5317d67",
   "metadata": {},
   "source": [
    "### COMMAND INDEX :\n",
    "\n",
    "- UP 1\n",
    "- DOWN 2\n",
    "- LEFT 3\n",
    "- RIGHT 4\n",
    "- UP_LEFT 5\n",
    "- UP_RIGHT 6\n",
    "- DOWN_LEFT 7\n",
    "- DOWN_RIGHT 8\n",
    "- TURN_LEFT 9\n",
    "- TURN_RIGHT 10\n",
    "- STOP 0\n"
   ]
  },
  {
   "cell_type": "code",
   "execution_count": 3,
   "id": "ed8ef6df",
   "metadata": {},
   "outputs": [],
   "source": [
    "def sendCommand(command,bot):\n",
    "    \n",
    "    client[bot].sendto(command.encode('UTF-8'), addr[bot])\n"
   ]
  },
  {
   "cell_type": "markdown",
   "id": "0c477301",
   "metadata": {},
   "source": [
    "## Navigation Algorithm"
   ]
  },
  {
   "cell_type": "code",
   "execution_count": null,
   "id": "f95e2954",
   "metadata": {},
   "outputs": [],
   "source": []
  },
  {
   "cell_type": "markdown",
   "id": "1e17fad1",
   "metadata": {},
   "source": [
    "## Main Function"
   ]
  },
  {
   "cell_type": "code",
   "execution_count": 7,
   "id": "f626d6fb",
   "metadata": {},
   "outputs": [
    {
     "ename": "KeyboardInterrupt",
     "evalue": "",
     "output_type": "error",
     "traceback": [
      "\u001b[1;31m---------------------------------------------------------------------------\u001b[0m",
      "\u001b[1;31mKeyboardInterrupt\u001b[0m                         Traceback (most recent call last)",
      "\u001b[1;32m<ipython-input-7-25dcf77f3386>\u001b[0m in \u001b[0;36m<module>\u001b[1;34m\u001b[0m\n\u001b[0;32m      3\u001b[0m \u001b[1;33m\u001b[0m\u001b[0m\n\u001b[0;32m      4\u001b[0m     \u001b[0murl\u001b[0m \u001b[1;33m=\u001b[0m \u001b[1;34m\"http://192.168.43.1:8080/video\"\u001b[0m\u001b[1;33m\u001b[0m\u001b[1;33m\u001b[0m\u001b[0m\n\u001b[1;32m----> 5\u001b[1;33m     \u001b[0mcap\u001b[0m \u001b[1;33m=\u001b[0m \u001b[0mcv2\u001b[0m\u001b[1;33m.\u001b[0m\u001b[0mVideoCapture\u001b[0m\u001b[1;33m(\u001b[0m\u001b[0murl\u001b[0m\u001b[1;33m)\u001b[0m\u001b[1;33m\u001b[0m\u001b[1;33m\u001b[0m\u001b[0m\n\u001b[0m\u001b[0;32m      6\u001b[0m     \u001b[0mp\u001b[0m \u001b[1;33m=\u001b[0m \u001b[1;36m60\u001b[0m\u001b[1;33m\u001b[0m\u001b[1;33m\u001b[0m\u001b[0m\n\u001b[0;32m      7\u001b[0m \u001b[1;33m\u001b[0m\u001b[0m\n",
      "\u001b[1;31mKeyboardInterrupt\u001b[0m: "
     ]
    }
   ],
   "source": [
    "if __name__ == '__main__':\n",
    "    \n",
    "    \n",
    "    url = \"http://192.168.43.1:8080/video\"\n",
    "    cap = cv2.VideoCapture(url)\n",
    "    p = 60\n",
    "    \n",
    "    while True:\n",
    "        camera,frame = cap.read()\n",
    "        if frame is not None:\n",
    "            \n",
    "            x = int(frame.shape[1]*p/100)\n",
    "            y = int(frame.shape[0]*p/100)\n",
    "            frame = cv2.resize(frame, (x, y))\n",
    "            cv2.imshow(\"Frame\", frame)\n",
    "        \n",
    "        else :\n",
    "            print(\"Error in reading frame\")\n",
    "        \n",
    "        q = cv2.waitKey(1)\n",
    "        if q == ord(\"q\"):\n",
    "            break\n",
    "\n",
    "cv2.destroyAllWindows()\n",
    "    "
   ]
  }
 ],
 "metadata": {
  "kernelspec": {
   "display_name": "Python 3",
   "language": "python",
   "name": "python3"
  },
  "language_info": {
   "codemirror_mode": {
    "name": "ipython",
    "version": 3
   },
   "file_extension": ".py",
   "mimetype": "text/x-python",
   "name": "python",
   "nbconvert_exporter": "python",
   "pygments_lexer": "ipython3",
   "version": "3.8.10"
  }
 },
 "nbformat": 4,
 "nbformat_minor": 5
}
