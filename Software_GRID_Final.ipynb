{
 "cells": [
  {
   "cell_type": "markdown",
   "id": "5ba14336",
   "metadata": {},
   "source": [
    "## GRID SOFTWARE v1.0\n",
    "- Establish server connection \n",
    "- Detect the Bots\n",
    "- Send command to bot\n",
    "- Navigation Algorithm\n",
    "- Main Function\n"
   ]
  },
  {
   "cell_type": "markdown",
   "id": "783fedc3",
   "metadata": {},
   "source": [
    "## Import Libraries"
   ]
  },
  {
   "cell_type": "code",
   "execution_count": null,
   "id": "0083c073",
   "metadata": {},
   "outputs": [],
   "source": [
    "import cv2\n",
    "import socket\n",
    "from cv2 import aruco\n",
    "import time\n",
    "import threading\n",
    "import math\n",
    "import numpy as np\n",
    "import os\n",
    "from os.path import isfile, join\n",
    "\n",
    "min_d = 65\n",
    "bot1 = 22\n",
    "bot2 = 23\n",
    "bot3 = 24\n",
    "bot4 = 25\n",
    "\n",
    "\n",
    "def dis(x, y, a, b):\n",
    "    dist = math.sqrt((x - a) * (x - a) + (y - b) * (y - b))\n",
    "    return dist"
   ]
  },
  {
   "cell_type": "markdown",
   "id": "4d6fc23f",
   "metadata": {},
   "source": [
    "## Establish server connection"
   ]
  },
  {
   "cell_type": "code",
   "execution_count": null,
   "id": "e5eb2f68",
   "metadata": {},
   "outputs": [],
   "source": [
    "hostname = socket.gethostname()\n",
    "my_ip = socket.gethostbyname(hostname)\n",
    "print(my_ip) #Give this ID in the ESP32 sketch\n",
    "\n",
    "def startServer():\n",
    "    serversocket = socket.socket()\n",
    "    host = '0.0.0.0'\n",
    "    port = 8090\n",
    "   \n",
    "    try:\n",
    "        serversocket.bind((host, port))\n",
    "    except socket.error as e:\n",
    "        print(str(e))\n",
    "    \n",
    "    print(\"Waiting for connection\")\n",
    "    serversocket.listen(5)\n",
    "\n",
    "    global client, addr \n",
    "    client, addr = serversocket.accept()\n",
    "    print(\"Connection made\")"
   ]
  },
  {
   "cell_type": "markdown",
   "id": "10a992ce",
   "metadata": {},
   "source": [
    "## Detect the bots"
   ]
  },
  {
   "cell_type": "markdown",
   "id": "62c7eb29",
   "metadata": {},
   "source": [
    "### Method 1 : arUco"
   ]
  },
  {
   "cell_type": "code",
   "execution_count": null,
   "id": "dd460d98",
   "metadata": {},
   "outputs": [],
   "source": [
    "def arucoTracker(img) :\n",
    "    imgGray = cv2.cvtColor(img, cv2.COLOR_BGR2GRAY)\n",
    "    key = getattr(aruco, f'DICT_4X4_250')\n",
    "    arucoDict = aruco.Dictionary_get(key)\n",
    "    arucoParam = aruco.DetectorParameters_create()\n",
    "\n",
    "    bbox, ids, rejected = aruco.detectMarkers(imgGray, arucoDict, parameters=arucoParam)\n",
    "    \n",
    "    img = aruco.drawDetectedMarkers(img, bbox)\n",
    "    \n",
    "    return img, bbox, ids\n"
   ]
  },
  {
   "cell_type": "markdown",
   "id": "188147c1",
   "metadata": {},
   "source": [
    "### Method 2 : QR CODE"
   ]
  },
  {
   "cell_type": "code",
   "execution_count": null,
   "id": "554bf8a0",
   "metadata": {},
   "outputs": [],
   "source": []
  },
  {
   "cell_type": "markdown",
   "id": "cc334f89",
   "metadata": {},
   "source": [
    "### Method 3 : Object Tracker"
   ]
  },
  {
   "cell_type": "code",
   "execution_count": null,
   "id": "396c799e",
   "metadata": {},
   "outputs": [],
   "source": [
    "def botTracker(tracker, frame) :\n",
    "\n",
    "    ok, bbox = tracker.update(frame)\n",
    "\n",
    "    # Draw bounding box\n",
    "    if ok:\n",
    "        # Tracking success\n",
    "        p1 = (int(bbox[0]), int(bbox[1]))\n",
    "        p2 = (int(bbox[0] + bbox[2]), int(bbox[1] + bbox[3]))\n",
    "        cv2.rectangle(frame, p1, p2, (255,0,0), 2, 1)\n",
    "    else :\n",
    "        # Tracking failure\n",
    "        cv2.putText(frame, \"Tracking failure detected\", (100,80), cv2.FONT_HERSHEY_SIMPLEX, 0.75,(0,0,255),2)\n",
    "\n",
    "    # Display tracker type on frame\n",
    "    cv2.putText(frame,\" CSRT Tracker\", (100,20), cv2.FONT_HERSHEY_SIMPLEX, 0.75, (50,170,50),2);\n",
    "\n",
    "    return frame,bbox"
   ]
  },
  {
   "cell_type": "markdown",
   "id": "4c4b3f5a",
   "metadata": {},
   "source": [
    "## Send Command to Bot"
   ]
  },
  {
   "cell_type": "markdown",
   "id": "d5317d67",
   "metadata": {},
   "source": [
    "### Command Index :\n",
    "\n",
    "- UP 1\n",
    "- DOWN 2\n",
    "- LEFT 3\n",
    "- RIGHT 4\n",
    "- UP_LEFT 5\n",
    "- UP_RIGHT 6\n",
    "- DOWN_LEFT 7\n",
    "- DOWN_RIGHT 8\n",
    "- TURN_LEFT 9\n",
    "- TURN_RIGHT 10\n",
    "- STOP 0\n"
   ]
  },
  {
   "cell_type": "code",
   "execution_count": null,
   "id": "ed8ef6df",
   "metadata": {},
   "outputs": [],
   "source": [
    "def sendCommand(command):\n",
    "    \n",
    "    client.sendto(command.encode('UTF-8'), addr)\n"
   ]
  },
  {
   "cell_type": "markdown",
   "id": "d251d5ee",
   "metadata": {},
   "source": [
    "### Sample Command"
   ]
  },
  {
   "cell_type": "code",
   "execution_count": null,
   "id": "dcf7cb5e",
   "metadata": {},
   "outputs": [],
   "source": [
    "def sampleCommand():\n",
    "    time.sleep(5)\n",
    "    sendCommand('1')\n",
    "    time.sleep(1.6)\n",
    "    sendCommand('4')\n",
    "    time.sleep(0.1)\n",
    "    sendCommand('1')\n",
    "    time.sleep(1.6)\n",
    "    sendCommand('0')\n",
    "    time.sleep(0.1)\n",
    "    sendCommand('2')\n",
    "    time.sleep(1.6)\n",
    "    sendCommand('0')\n",
    "    time.sleep(0.1)\n",
    "    sendCommand('7')\n",
    "    time.sleep(1.6)\n",
    "    sendCommand('0')\n",
    "    time.sleep(0.1)"
   ]
  },
  {
   "cell_type": "markdown",
   "id": "d39cc9e5",
   "metadata": {},
   "source": [
    "## Understanding Arena"
   ]
  },
  {
   "cell_type": "code",
   "execution_count": null,
   "id": "388af0b2",
   "metadata": {},
   "outputs": [],
   "source": [
    "def getcoords(img):\n",
    "    coords = [[0, 0], [0, 0], [0, 0], [0, 0], [0, 0], [0, 0], [0, 0], [0, 0], [0, 0], [0, 0], [0, 0], [0, 0], [0, 0],\n",
    "            [0, 0],\n",
    "            [0, 0], [0, 0]]\n",
    "\n",
    "    img, bboxs, ids = arucoTracker(img)\n",
    "\n",
    "    for i in range(0, len(ids)):\n",
    "        x, y = (bboxs[i][0][0][0] + bboxs[i][0][2][0]) / 2, (bboxs[i][0][0][1] + bboxs[i][0][2][1]) / 2\n",
    "        j = ids[i][0]\n",
    "        if j == bot1:\n",
    "            coords[3][0] = x\n",
    "            coords[3][1] = y\n",
    "        if j == 1:\n",
    "            coords[0][0] = x\n",
    "            coords[2][0] = x\n",
    "            coords[0][1] = y\n",
    "            coords[2][1] = y\n",
    "        if j == 2:\n",
    "            coords[1][0] = x\n",
    "            coords[1][1] = y\n",
    "        if j == bot2:\n",
    "            coords[7][0] = x\n",
    "            coords[7][1] = y\n",
    "        if j == 3:\n",
    "            coords[4][0] = x\n",
    "            coords[4][1] = y\n",
    "            coords[6][0] = x\n",
    "            coords[6][1] = y\n",
    "        if j == 4:\n",
    "            coords[5][0] = x\n",
    "            coords[5][1] = y\n",
    "        if j == bot3:\n",
    "            coords[11][0] = x\n",
    "            coords[11][1] = y\n",
    "        if j == 5:\n",
    "            coords[8][0] = x\n",
    "            coords[8][1] = y\n",
    "            coords[10][0] = x\n",
    "            coords[10][1] = y\n",
    "        if j == 6:\n",
    "            coords[9][0] = x\n",
    "            coords[9][1] = y\n",
    "        if j == 7:\n",
    "            coords[12][0] = x\n",
    "            coords[12][1] = y\n",
    "            coords[14][0] = x\n",
    "            coords[14][1] = y\n",
    "        if j == bot4:\n",
    "            coords[15][0] = x\n",
    "            coords[15][1] = y\n",
    "        if j == 8:\n",
    "            coords[13][0] = x\n",
    "            coords[13][1] = y\n",
    "\n",
    "    return coords\n"
   ]
  },
  {
   "cell_type": "markdown",
   "id": "0c477301",
   "metadata": {},
   "source": [
    "## Navigation Algorithm"
   ]
  },
  {
   "cell_type": "code",
   "execution_count": null,
   "id": "45fb9790",
   "metadata": {},
   "outputs": [],
   "source": [
    "def com(img,ld,rd):\n",
    "    command = '1'\n",
    "    if ld-rd > 10 :\n",
    "        command = '4'\n",
    "        cv2.putText(img, \"right\", (60, 60), cv2.FONT_HERSHEY_SIMPLEX, 0.9, (255, 255, 255), 2)\n",
    "    elif rd-ld > 10 :\n",
    "        command = '3'\n",
    "        cv2.putText(img, \"left\", (60, 60), cv2.FONT_HERSHEY_SIMPLEX, 0.9, (255, 255, 255), 2)\n",
    "    return img, command\n"
   ]
  },
  {
   "cell_type": "code",
   "execution_count": null,
   "id": "f95e2954",
   "metadata": {},
   "outputs": [],
   "source": [
    "def navigate(coords, img, c,a,b,x1,y1,x2,y2) :\n",
    "\n",
    "    img, bbox, ids = arucoTracker(img)\n",
    "\n",
    "    if c < 4:\n",
    "        for i in range(0, len(ids)):\n",
    "            x = ids[i][0]\n",
    "            if x == bot1:\n",
    "                a = int(bbox[i][0][0][0] + bbox[i][0][2][0]) / 2\n",
    "                b = int(bbox[i][0][0][1] + bbox[i][0][2][1]) / 2\n",
    "                x1, y1 = (int(bbox[i][0][1][0]) + int(bbox[i][0][0][0])) / 2, (\n",
    "                        int(bbox[i][0][1][1]) + int(bbox[i][0][0][1])) / 2\n",
    "                x2, y2 = (int(bbox[i][0][2][0]) + int(bbox[i][0][3][0])) / 2, (\n",
    "                        int(bbox[i][0][2][1]) + int(bbox[i][0][3][1])) / 2\n",
    "                pts = np.array([[x1, y1], [x2, y2]], np.int32)\n",
    "                cv2.polylines(img, [pts], True, (255, 0, 0), 1)\n",
    "                cv2.circle(img, (int(x2), int(y2)), 10, (255, 0, 0))\n",
    "                x1, y1 = int(bbox[i][0][3][0]), int(bbox[i][0][3][1])\n",
    "                x2, y2 = int(bbox[i][0][2][0]), int(bbox[i][0][2][1])\n",
    "\n",
    "    if c > 3 and c < 8:\n",
    "        for i in range(0, len(ids)):\n",
    "            x = ids[i][0]\n",
    "            if x == bot2:\n",
    "                a = int(bbox[i][0][0][0] + bbox[i][0][2][0]) / 2\n",
    "                b = int(bbox[i][0][0][1] + bbox[i][0][2][1]) / 2\n",
    "                x1, y1 = (int(bbox[i][0][1][0]) + int(bbox[i][0][0][0])) / 2, (\n",
    "                        int(bbox[i][0][1][1]) + int(bbox[i][0][0][1])) / 2\n",
    "                x2, y2 = (int(bbox[i][0][2][0]) + int(bbox[i][0][3][0])) / 2, (\n",
    "                        int(bbox[i][0][2][1]) + int(bbox[i][0][3][1])) / 2\n",
    "                pts = np.array([[x1, y1], [x2, y2]], np.int32)\n",
    "                cv2.polylines(img, [pts], True, (255, 0, 0), 1)\n",
    "                cv2.circle(img, (int(x2), int(y2)), 10, (255, 0, 0))\n",
    "                x1, y1 = int(bbox[i][0][3][0]), int(bbox[i][0][3][1])\n",
    "                x2, y2 = int(bbox[i][0][2][0]), int(bbox[i][0][2][1])\n",
    "\n",
    "    if c > 7 and c < 12:\n",
    "        for i in range(0, len(ids)):\n",
    "            x = ids[i][0]\n",
    "            if x == bot3:\n",
    "                a = int(bbox[i][0][0][0] + bbox[i][0][2][0]) / 2\n",
    "                b = int(bbox[i][0][0][1] + bbox[i][0][2][1]) / 2\n",
    "                x1, y1 = (int(bbox[i][0][1][0]) + int(bbox[i][0][0][0])) / 2, (\n",
    "                        int(bbox[i][0][1][1]) + int(bbox[i][0][0][1])) / 2\n",
    "                x2, y2 = (int(bbox[i][0][2][0]) + int(bbox[i][0][3][0])) / 2, (\n",
    "                        int(bbox[i][0][2][1]) + int(bbox[i][0][3][1])) / 2\n",
    "                pts = np.array([[x1, y1], [x2, y2]], np.int32)\n",
    "                cv2.polylines(img, [pts], True, (255, 0, 0), 1)\n",
    "                cv2.circle(img, (int(x2), int(y2)), 10, (255, 0, 0))\n",
    "                x1, y1 = int(bbox[i][0][3][0]), int(bbox[i][0][3][1])\n",
    "                x2, y2 = int(bbox[i][0][2][0]), int(bbox[i][0][2][1])\n",
    "\n",
    "    if c > 11 and c < 15:\n",
    "        for i in range(0, len(ids)):\n",
    "            x = ids[i][0]\n",
    "            if x == bot4:\n",
    "                a = int(bbox[i][0][0][0] + bbox[i][0][2][0]) / 2\n",
    "                b = int(bbox[i][0][0][1] + bbox[i][0][2][1]) / 2\n",
    "                x1, y1 = (int(bbox[i][0][1][0]) + int(bbox[i][0][0][0])) / 2, (\n",
    "                        int(bbox[i][0][1][1]) + int(bbox[i][0][0][1])) / 2\n",
    "                x2, y2 = (int(bbox[i][0][2][0]) + int(bbox[i][0][3][0])) / 2, (\n",
    "                        int(bbox[i][0][2][1]) + int(bbox[i][0][3][1])) / 2\n",
    "                pts = np.array([[x1, y1], [x2, y2]], np.int32)\n",
    "                cv2.polylines(img, [pts], True, (255, 0, 0), 1)\n",
    "                cv2.circle(img, (int(x2), int(y2)), 10, (255, 0, 0))\n",
    "                x1,y1 = int(bbox[i][0][3][0]),int(bbox[i][0][3][1])\n",
    "                x2,y2 = int(bbox[i][0][2][0]),int(bbox[i][0][2][1])\n",
    "\n",
    "    #print(coords[c][0])\n",
    "    d = dis(coords[c][0], coords[c][1], a, b)\n",
    "    rd = dis(coords[c][0], coords[c][1],x1,y1)\n",
    "    ld = dis(coords[c][0], coords[c][1],x2,y2)\n",
    "\n",
    "    com(img, ld, rd)\n",
    "    \n",
    "    if d > min_d:\n",
    "        c = c\n",
    "\n",
    "    else:\n",
    "        # command = stop\n",
    "        c = c + 1\n",
    "    \n",
    "    return img,c,a,b,x1,y1,x2,y2"
   ]
  },
  {
   "cell_type": "markdown",
   "id": "2770e1f9",
   "metadata": {},
   "source": [
    "## To Save the Video"
   ]
  },
  {
   "cell_type": "code",
   "execution_count": null,
   "id": "d5e06711",
   "metadata": {},
   "outputs": [],
   "source": [
    "def convert_frames_to_video(pathIn,pathOut,fps):\n",
    "    frame_array = []\n",
    "    files = [f for f in os.listdir(pathIn) if isfile(join(pathIn, f))]\n",
    "\n",
    "    #for sorting the file names properly\n",
    "    files = sorted(files, key=lambda x: int(x.split('.')[1]))\n",
    "\n",
    "    for i in range(len(files)):\n",
    "        filename=pathIn + files[i]\n",
    "        #reading each files\n",
    "        img = cv2.imread(filename)\n",
    "        height, width, layers = img.shape\n",
    "        size = (width,height)\n",
    "        #print(filename)\n",
    "        #inserting the frames into an image array\n",
    "        frame_array.append(img)\n",
    "\n",
    "    out = cv2.VideoWriter(pathOut,cv2.VideoWriter_fourcc(*'DIVX'), fps, size)\n",
    "\n",
    "    for i in range(len(frame_array)):\n",
    "        # writing to a image array\n",
    "        out.write(frame_array[i])\n",
    "    out.release()"
   ]
  },
  {
   "cell_type": "markdown",
   "id": "1e17fad1",
   "metadata": {},
   "source": [
    "## Main Function"
   ]
  },
  {
   "cell_type": "code",
   "execution_count": null,
   "id": "f626d6fb",
   "metadata": {},
   "outputs": [],
   "source": [
    "if __name__ == '__main__':\n",
    "    \n",
    "    \n",
    "    url = \"http://192.168.137.148:8080/video\" #Make this detect on it's own and use\n",
    "    cap = cv2.VideoCapture(url)\n",
    "    p = 60\n",
    "        \n",
    "    success,frame = cap.read()  \n",
    "    print(success)\n",
    "    \n",
    "    '''\n",
    "    coords = getcoords(frame)\n",
    "    c=a=b=x1=y1=y2=x2=0\n",
    "    print(coords)\n",
    "    \n",
    "    '''\n",
    "    \n",
    "    tracker = cv2.TrackerKCF_create()\n",
    "    bbox = cv2.selectROI(frame, True)\n",
    "    ok = tracker.init(frame, bbox)\n",
    "    cv2.destroyAllWindows()\n",
    "   \n",
    "    startServer()\n",
    "        \n",
    "    t1 = threading.Thread(target = sampleCommand, name = 't1')\n",
    "    t1.start()\n",
    "    \n",
    "    t_1 = []\n",
    "    k=0   \n",
    "    while True:\n",
    "        \n",
    "        timer = cv2.getTickCount()\n",
    "        start = time.time()\n",
    "        success,frame = cap.read()\n",
    "       \n",
    "        if frame is not None:\n",
    "            \n",
    "            bp_1 = time.time()\n",
    "            frame,bbox = botTracker(tracker,frame)\n",
    "            bp_2 = time.time()\n",
    "            t_1.append(bp_1 - start)\n",
    "            t_2.append(bp_2 - start)\n",
    "            fps = cv2.getTickFrequency() / (cv2.getTickCount() - timer);\n",
    "            cv2.putText(frame, \"FPS : \" + str(int(fps)), (100,50), cv2.FONT_HERSHEY_SIMPLEX, 0.75, (50,170,50), 2);\n",
    "            \n",
    "            '''\n",
    "            frame,c,a,b,x1,y1,x2,y2 = navigate(coords, frame, c,a,b,x1,y1,x2,y2)\n",
    "            cv2.putText(frame, str(c), (20, 20), cv2.FONT_HERSHEY_SIMPLEX, 0.9, (255, 0, 0), 2)\n",
    "            '''\n",
    "            \n",
    "            cv2.namedWindow(\"Live Tracking\", cv2.WINDOW_NORMAL)\n",
    "            cv2.resizeWindow(\"Live Tracking\",int(frame.shape[1]*p/100),int(frame.shape[0]*p/100))\n",
    "            cv2.imshow(\"Live Tracking\", frame)\n",
    "            \n",
    "            \n",
    "            cv2.imwrite('./data/frames.'+str(k)+'.png',frame)\n",
    "            k+=1\n",
    "            #Uncomment the above lines to save the frames\n",
    "            \n",
    "        else :\n",
    "            print(\"Error in reading frame\")\n",
    "        \n",
    "        q = cv2.waitKey(1)\n",
    "        if q == ord(\"q\"):\n",
    "            break\n",
    "\n",
    "cv2.destroyAllWindows()\n",
    "\n",
    "convert_frames_to_video('./data/', 'tracker_day_2.mp4', 25.0)\n",
    "#Uncomment the above line to convert the saved frames into video\n"
   ]
  },
  {
   "cell_type": "markdown",
   "id": "48a9be8d",
   "metadata": {},
   "source": [
    "## Time Taken to run Commands"
   ]
  },
  {
   "cell_type": "code",
   "execution_count": null,
   "id": "4fb6fd55",
   "metadata": {},
   "outputs": [],
   "source": [
    "def truncate(number, digits) -> float :\n",
    "    stepper = 10.00*digits\n",
    "    return math.trunc(stepper*number)/stepper\n",
    "\n",
    "tim = numpy.array(t)\n",
    "numpy.set_printoptions(precision=3)\n",
    "\n",
    "print(tim)"
   ]
  }
 ],
 "metadata": {
  "kernelspec": {
   "display_name": "Python 3",
   "language": "python",
   "name": "python3"
  },
  "language_info": {
   "codemirror_mode": {
    "name": "ipython",
    "version": 3
   },
   "file_extension": ".py",
   "mimetype": "text/x-python",
   "name": "python",
   "nbconvert_exporter": "python",
   "pygments_lexer": "ipython3",
   "version": "3.8.10"
  }
 },
 "nbformat": 4,
 "nbformat_minor": 5
}
